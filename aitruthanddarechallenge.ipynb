{
  "nbformat": 4,
  "nbformat_minor": 0,
  "metadata": {
    "colab": {
      "provenance": [],
      "authorship_tag": "ABX9TyOuCXS0zMyCd0PVwaiLmKWB",
      "include_colab_link": true
    },
    "kernelspec": {
      "name": "python3",
      "display_name": "Python 3"
    },
    "language_info": {
      "name": "python"
    }
  },
  "cells": [
    {
      "cell_type": "markdown",
      "metadata": {
        "id": "view-in-github",
        "colab_type": "text"
      },
      "source": [
        "<a href=\"https://colab.research.google.com/github/raunakyadav92/Aitruthdaregame/blob/main/aitruthanddarechallenge.ipynb\" target=\"_parent\"><img src=\"https://colab.research.google.com/assets/colab-badge.svg\" alt=\"Open In Colab\"/></a>"
      ]
    },
    {
      "cell_type": "code",
      "execution_count": null,
      "metadata": {
        "id": "D_TyvA3otQ1l"
      },
      "outputs": [],
      "source": [
        "import openai\n",
        "openai.api_key = 'YOUR_API_KEY'\n",
        "\n",
        "def get_ai_challenge(choice):\n",
        "    if choice.lower() == 'truth':\n",
        "        prompt = \"Give me a funny truth question for a truth or dare game.\"\n",
        "    else:\n",
        "        prompt = \"Give me a funny dare challenge for a truth or dare game.\"\n",
        "\n",
        "    response = openai.Completion.create(\n",
        "        engine=\"text-davinci-003\",\n",
        "        prompt=prompt,\n",
        "        max_tokens=50\n",
        "    )\n",
        "    return response.choices[0].text.strip()\n",
        "\n",
        "print(\"🎉 Welcome to AI Truth or Dare Challenge!\")\n",
        "choice = input(\"Do you choose Truth or Dare? \")\n",
        "\n",
        "challenge = get_ai_challenge(choice)\n",
        "print(f\"Your {choice} challenge is: {challenge}\")\n"
      ]
    }
  ]
}